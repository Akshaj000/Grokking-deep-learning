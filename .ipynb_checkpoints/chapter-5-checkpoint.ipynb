{
 "cells": [
  {
   "cell_type": "markdown",
   "id": "05b86f1a",
   "metadata": {},
   "source": [
    "# Chapter-5 | learning multiple weights at a time: generalizing gradient descent"
   ]
  },
  {
   "cell_type": "code",
   "execution_count": 2,
   "id": "6807279b",
   "metadata": {},
   "outputs": [],
   "source": [
    "def w_sum(a,b):\n",
    "    assert(len(a) == len(b))\n",
    "    output = 0\n",
    "    for i in range(len(a)):\n",
    "        output += (a[i] * b[i])\n",
    "    return output\n",
    "weights = [0.1, 0.2, -.1]\n",
    "def neural_network(input, weights):\n",
    "    pred = w_sum(input, weights)"
   ]
  },
  {
   "cell_type": "code",
   "execution_count": 3,
   "id": "77d2b430",
   "metadata": {},
   "outputs": [
    {
     "ename": "TypeError",
     "evalue": "unsupported operand type(s) for -: 'NoneType' and 'int'",
     "output_type": "error",
     "traceback": [
      "\u001b[0;31m---------------------------------------------------------------------------\u001b[0m",
      "\u001b[0;31mTypeError\u001b[0m                                 Traceback (most recent call last)",
      "Input \u001b[0;32mIn [3]\u001b[0m, in \u001b[0;36m<cell line: 8>\u001b[0;34m()\u001b[0m\n\u001b[1;32m      6\u001b[0m \u001b[38;5;28minput\u001b[39m \u001b[38;5;241m=\u001b[39m [toes[\u001b[38;5;241m0\u001b[39m],wlrec[\u001b[38;5;241m0\u001b[39m],nfans[\u001b[38;5;241m0\u001b[39m]]\n\u001b[1;32m      7\u001b[0m pred \u001b[38;5;241m=\u001b[39m neural_network(\u001b[38;5;28minput\u001b[39m,weights)\n\u001b[0;32m----> 8\u001b[0m error \u001b[38;5;241m=\u001b[39m (pred \u001b[38;5;241m-\u001b[39m true) \u001b[38;5;241m*\u001b[39m\u001b[38;5;241m*\u001b[39m \u001b[38;5;241m2\u001b[39m\n\u001b[1;32m      9\u001b[0m delta \u001b[38;5;241m=\u001b[39m pred \u001b[38;5;241m-\u001b[39m true\n",
      "\u001b[0;31mTypeError\u001b[0m: unsupported operand type(s) for -: 'NoneType' and 'int'"
     ]
    }
   ],
   "source": [
    "toes = [8.5 , 9.5, 9.9, 9.0]\n",
    "wlrec = [0.65, 0.8, 0.8, 0.9]\n",
    "nfans = [1.2 , 1.3, 0.5, 1.0]\n",
    "win_or_lose_binary = [1, 1, 0, 1]\n",
    "true = win_or_lose_binary[0]\n",
    "input = [toes[0],wlrec[0],nfans[0]]\n",
    "pred = neural_network(input,weights)\n",
    "error = (pred - true) ** 2\n",
    "delta = pred - true"
   ]
  },
  {
   "cell_type": "code",
   "execution_count": null,
   "id": "7377c2c0",
   "metadata": {},
   "outputs": [],
   "source": []
  }
 ],
 "metadata": {
  "kernelspec": {
   "display_name": "Python 3 (ipykernel)",
   "language": "python",
   "name": "python3"
  },
  "language_info": {
   "codemirror_mode": {
    "name": "ipython",
    "version": 3
   },
   "file_extension": ".py",
   "mimetype": "text/x-python",
   "name": "python",
   "nbconvert_exporter": "python",
   "pygments_lexer": "ipython3",
   "version": "3.10.7"
  }
 },
 "nbformat": 4,
 "nbformat_minor": 5
}
