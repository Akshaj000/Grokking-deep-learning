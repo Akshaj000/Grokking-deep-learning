{
 "cells": [
  {
   "cell_type": "markdown",
   "id": "123c69b6",
   "metadata": {},
   "source": [
    "# Chapter 3 | Introduction to neural prediction"
   ]
  },
  {
   "cell_type": "markdown",
   "id": "0abab936",
   "metadata": {},
   "source": [
    "## A simple neural network making a prediction"
   ]
  },
  {
   "cell_type": "code",
   "execution_count": 5,
   "id": "f7c43fe9",
   "metadata": {},
   "outputs": [],
   "source": [
    "# An empty network\n",
    "# measure of sensitivity between the input of the network and its prediction\n",
    "weight = 0.1 #toes\n",
    "def neural_network(input, weight):\n",
    "    prediction = input * weight # multiplying input by weight \n",
    "    return prediction # depositing the prediction\n",
    "\n",
    "# one or more weights that you can multiply by the input data to make a prediction. ?\n",
    "# It “scales” the input by a certain amount.\n",
    "# It uses the knowledge in the weights to interpret the information in the input data."
   ]
  },
  {
   "cell_type": "code",
   "execution_count": 4,
   "id": "7fc6d1b6",
   "metadata": {},
   "outputs": [
    {
     "name": "stdout",
     "output_type": "stream",
     "text": [
      "0.8500000000000001\n"
     ]
    }
   ],
   "source": [
    "# Inserting one input dataset\n",
    "number_of_toes = [8.5, 9.5, 10, 9]\n",
    "input = number_of_toes[0]\n",
    "pred = neural_network(input, weight)\n",
    "print(pred)"
   ]
  },
  {
   "cell_type": "markdown",
   "id": "cae72373",
   "metadata": {},
   "source": [
    "## Making a prediction with multiple inputs"
   ]
  },
  {
   "cell_type": "code",
   "execution_count": 8,
   "id": "caf9516f",
   "metadata": {},
   "outputs": [],
   "source": [
    "def w_sum(a,b):\n",
    "    assert(len(a) == len(b))\n",
    "    output = 0\n",
    "    for i in range(len(a)):\n",
    "        output += (a[i] * b[i]) # elementwise operation\n",
    "    return output\n",
    "\n",
    "# dot product gives you a notion of similarity between two vectors"
   ]
  },
  {
   "cell_type": "code",
   "execution_count": 9,
   "id": "18eaf393",
   "metadata": {},
   "outputs": [],
   "source": [
    "# An empty network with multiple inputs\n",
    "weights = [0.1, 0.2, 0] #toes, win/loss, fans\n",
    "def neural_network(input, weights):\n",
    "    pred = w_sum(input,weights)\n",
    "    return pred\n",
    "\n",
    "# It multiplies three inputs by three knob weights and sums them. This is a weighted sum.\n",
    "# Need to process multiple inputs at a time justifies the use of a new tool. It’s called a vector"
   ]
  },
  {
   "cell_type": "code",
   "execution_count": 11,
   "id": "abede52f",
   "metadata": {},
   "outputs": [
    {
     "data": {
      "text/plain": [
       "0.9800000000000001"
      ]
     },
     "execution_count": 11,
     "metadata": {},
     "output_type": "execute_result"
    }
   ],
   "source": [
    "# Inserting one input datapoint\n",
    "toes = [8.5, 9.5, 9.9, 9.0] # current average number of toes per player\n",
    "wlrec = [0.65, 0.8, 0.8, 0.9] # current games won (percent)\n",
    "nfans = [1.2, 1.3, 0.5, 1.0] # fan count (in millions)\n",
    "input = [toes[0], wlrec[0], nfans[0]]\n",
    "pred = neural_network(input, weights)\n",
    "pred"
   ]
  },
  {
   "cell_type": "code",
   "execution_count": 58,
   "id": "ec378ef6",
   "metadata": {},
   "outputs": [
    {
     "name": "stdout",
     "output_type": "stream",
     "text": [
      "0.9800000000000001\n"
     ]
    }
   ],
   "source": [
    "# Numpy code\n",
    "import numpy as np\n",
    "weights = np.array([0.1, 0.2, 0])\n",
    "def neural_network(input, weights):\n",
    "    pred = input.dot(weights)\n",
    "    return pred\n",
    "\n",
    "toes = np.array([8.5, 9.5, 9.9, 9.0])\n",
    "wlrec = np.array([0.65, 0.8, 0.8, 0.9])\n",
    "nfans = np.array([1.2, 1.3, 0.5, 1.0])\n",
    "\n",
    "input = np.array([toes[0],wlrec[0],nfans[0]])\n",
    "pred = neural_network(input,weights)\n",
    "print(pred)"
   ]
  },
  {
   "cell_type": "markdown",
   "id": "749f4bbd",
   "metadata": {},
   "source": [
    "#### Dot product"
   ]
  },
  {
   "cell_type": "code",
   "execution_count": 25,
   "id": "2e0b67db",
   "metadata": {},
   "outputs": [],
   "source": [
    "a = [ 0, 1, 0, 1]\n",
    "b = [ 1, 0, 1, 0]"
   ]
  },
  {
   "cell_type": "code",
   "execution_count": 44,
   "id": "198a6753",
   "metadata": {},
   "outputs": [
    {
     "name": "stdout",
     "output_type": "stream",
     "text": [
      "0 . 1 = 0\n",
      "1 . 0 = 0\n",
      "0 . 1 = 0\n",
      "1 . 0 = 0\n",
      "sum 0\n"
     ]
    }
   ],
   "source": [
    "# equate the properties of the dot product to a logical AND\n",
    "sum = 0\n",
    "for i in range(len(a)):\n",
    "    sum += a[i] and b[i]\n",
    "    print(a[i],\".\",b[i],\"=\",a[0] and a[1])\n",
    "print(\"sum\", sum)"
   ]
  },
  {
   "cell_type": "code",
   "execution_count": 45,
   "id": "5ab20c59",
   "metadata": {},
   "outputs": [],
   "source": [
    "c = [ 0, 1, 1, 0]"
   ]
  },
  {
   "cell_type": "code",
   "execution_count": 46,
   "id": "63095efc",
   "metadata": {},
   "outputs": [
    {
     "name": "stdout",
     "output_type": "stream",
     "text": [
      "1 . 0 = 0\n",
      "0 . 1 = 0\n",
      "1 . 1 = 1\n",
      "0 . 0 = 0\n",
      "sum 1\n"
     ]
    }
   ],
   "source": [
    "sum = 0\n",
    "for i in range(len(b)):\n",
    "    sum += b[i] and c[i]\n",
    "    print(b[i],\".\",c[i],\"=\",b[i] and c[i])\n",
    "print(\"sum\", sum)"
   ]
  },
  {
   "cell_type": "code",
   "execution_count": 47,
   "id": "fdfe86c7",
   "metadata": {},
   "outputs": [],
   "source": [
    "d = [.5, 0,.5, 0]"
   ]
  },
  {
   "cell_type": "code",
   "execution_count": 53,
   "id": "771ababa",
   "metadata": {},
   "outputs": [
    {
     "name": "stdout",
     "output_type": "stream",
     "text": [
      "0 . 0.5 = 0\n",
      "1 . 0 = 0\n",
      "1 . 0.5 = 0.5\n",
      "0 . 0 = 0\n",
      "sum 0.5\n"
     ]
    }
   ],
   "source": [
    "sum = 0 \n",
    "for i in range(len(c)):\n",
    "    sum += c[i] and d[i]\n",
    "    print(c[i],\".\",d[i],\"=\",c[i] and d[i])\n",
    "print(\"sum\", sum)\n",
    "# neural networks are also able to model partial ANDing"
   ]
  },
  {
   "cell_type": "code",
   "execution_count": 50,
   "id": "48b0b436",
   "metadata": {},
   "outputs": [],
   "source": [
    "e = [-1, 1, 0, 0]"
   ]
  },
  {
   "cell_type": "code",
   "execution_count": 52,
   "id": "cee29c45",
   "metadata": {},
   "outputs": [
    {
     "name": "stdout",
     "output_type": "stream",
     "text": [
      "0.5 . -1 = -1\n",
      "0 . 1 = 0\n",
      "0.5 . 0 = 0\n",
      "0 . 0 = 0\n",
      "sum -1\n"
     ]
    }
   ],
   "source": [
    "sum = 0\n",
    "for i in range(len(d)):\n",
    "    sum += d[i] and e[i]\n",
    "    print(d[i],\".\",e[i],\"=\",d[i] and e[i])\n",
    "print(\"sum\", sum)\n",
    "\n",
    "# negative weights tend to imply a logical NOT operator, given that any positive weight paired \n",
    "# with a negative weight will cause the score to go down"
   ]
  },
  {
   "cell_type": "code",
   "execution_count": 55,
   "id": "412118e6",
   "metadata": {},
   "outputs": [
    {
     "name": "stdout",
     "output_type": "stream",
     "text": [
      "0.5 . -1 = -1\n",
      "0 . 1 = 0\n",
      "0.5 . 0 = 0\n",
      "0 . 0 = 0\n",
      "sum -1\n"
     ]
    }
   ],
   "source": [
    "# if both vectors have negative weights (such as w_sum(e,e)), then the neural network will \n",
    "# perform a double negative and add weight instead\n",
    "\n",
    "sum = 0\n",
    "for i in range(len(d)):\n",
    "    sum = sum or (d[i] and e[i])\n",
    "    print(d[i],\".\",e[i],\"=\",d[i] and e[i])\n",
    "print(\"sum\", sum)\n",
    "\n",
    "\n",
    "# if both vectors have negative weights (such as w_sum(e,e)), then the neural network will perform\n",
    "# a double negative and add weight instead. some might say it’s an OR after the AND, because if \n",
    "# any of the rows show weight, the score is affected. Thus, for w_sum(a,b), if\n",
    "# (a[0] AND b[0]) OR (a[1] AND b[1]), and so on, then w_sum(a,b) returns a positive score.\n",
    "# Furthermore, if one value is negative, then that column gets a NOT."
   ]
  },
  {
   "cell_type": "markdown",
   "id": "eb351941",
   "metadata": {},
   "source": [
    "```\n",
    "weights = [ 1, 0, 1] => if input[0] OR input[2]\n",
    "weights = [ 0, 0, 1] => if input[2]\n",
    "weights = [ 1, 0, -1] => if input[0] OR NOT input[2]\t\t\n",
    "weights = [ -1, 0, -1] => if NOT input[0] OR NOT input[2]\n",
    "weights = [ 0.5, 0, 1] => if BIG input[0] or input[2]\n",
    "```"
   ]
  },
  {
   "cell_type": "markdown",
   "id": "ff5c6fb7",
   "metadata": {},
   "source": [
    "## Making a prediction with multiple outputs"
   ]
  },
  {
   "cell_type": "code",
   "execution_count": 59,
   "id": "a2d847d4",
   "metadata": {},
   "outputs": [],
   "source": [
    "# Performing elementwise multiplication\n",
    "def ele_mul(number, vector):\n",
    "    output = [0, 0, 0]\n",
    "    assert (len(output) == len(vector))\n",
    "    for i in range(len(vector)):\n",
    "        output[i] = number * vector[i]\n",
    "    return output"
   ]
  },
  {
   "cell_type": "code",
   "execution_count": 60,
   "id": "b0423245",
   "metadata": {},
   "outputs": [],
   "source": [
    "# An empty network with multiple outputs\n",
    "\n",
    "weights = [0.3, 0.2, 0.9]\n",
    "def neural_network(input, weights):\n",
    "    pred = ele_mul(input, weights)\n",
    "    return pred\n",
    "\n",
    "# this network truly behaves as three independent components, each receiving the same input data."
   ]
  },
  {
   "cell_type": "code",
   "execution_count": 62,
   "id": "c391b961",
   "metadata": {},
   "outputs": [
    {
     "data": {
      "text/plain": [
       "[0.195, 0.13, 0.5850000000000001]"
      ]
     },
     "execution_count": 62,
     "metadata": {},
     "output_type": "execute_result"
    }
   ],
   "source": [
    "wlrec = [0.65, 0.8, 0.8, 0.9] # Inserting one input datapoint\n",
    "input = wlrec[0]\n",
    "pred = neural_network(input,weights)\n",
    "pred # gives hurt pred, win pred, sad pred"
   ]
  },
  {
   "cell_type": "markdown",
   "id": "f72353b2",
   "metadata": {},
   "source": [
    "## Predicting with multiple inputs and outputs"
   ]
  },
  {
   "cell_type": "code",
   "execution_count": 79,
   "id": "6407a3a1",
   "metadata": {},
   "outputs": [],
   "source": [
    "# For each output, performing a weighted sum of inputs\n",
    "\n",
    "def w_sum(a,b):\n",
    "    assert(len(a) == len(b))\n",
    "    output = 0\n",
    "    for i in range(len(a)):\n",
    "        output += (a[i] * b[i]) # elementwise operation\n",
    "    return output\n",
    "\n",
    "def vect_mat_mul(vect, matrix):\n",
    "    assert (len(vect) == len(matrix))\n",
    "    output = [0, 0, 0]\n",
    "    for i in range(len(vect)):\n",
    "        output[i] = w_sum(vect, matrix[i])\n",
    "    return output"
   ]
  },
  {
   "cell_type": "code",
   "execution_count": 80,
   "id": "cd29a795",
   "metadata": {},
   "outputs": [],
   "source": [
    "          # toes % win # fans\n",
    "weights = [[0.1, 0.1, -0.3], # hurt ?\n",
    "           [0.1, 0.2, 0.0],  # win ?\n",
    "           [0.0, 1.3, 0.1]]  # sad ?\n",
    "\n",
    "def neural_network(input, weights):\n",
    "    pred = vect_mat_mul(input, weights)\n",
    "    return pred"
   ]
  },
  {
   "cell_type": "code",
   "execution_count": 67,
   "id": "1c0d83b8",
   "metadata": {},
   "outputs": [
    {
     "data": {
      "text/plain": [
       "[0.555, 0.9800000000000001, 0.9650000000000001]"
      ]
     },
     "execution_count": 67,
     "metadata": {},
     "output_type": "execute_result"
    }
   ],
   "source": [
    "toes = [8.5, 9.5, 9.9, 9.0]\n",
    "wlrec = [0.65,0.8, 0.8, 0.9]\n",
    "nfans = [1.2, 1.3, 0.5, 1.0]\n",
    "\n",
    "input = [toes[0],wlrec[0],nfans[0]]\n",
    "\n",
    "pred = neural_network(input,weights)\n",
    "pred # hurt pred, win pred, sad pred\n",
    "\n",
    "# three weights coming out of each input node, or three weights going into each output node"
   ]
  },
  {
   "cell_type": "markdown",
   "id": "426780b3",
   "metadata": {},
   "source": [
    "## Predicting on predictions"
   ]
  },
  {
   "cell_type": "code",
   "execution_count": 68,
   "id": "3acd4039",
   "metadata": {},
   "outputs": [],
   "source": [
    "# take the output of one network and feed it as input to another network. \n",
    "# This results in two consecutive vector-matrix multiplications."
   ]
  },
  {
   "cell_type": "code",
   "execution_count": 89,
   "id": "330ce6f9",
   "metadata": {},
   "outputs": [],
   "source": [
    "# An empty network with multiple inputs and outputs\n",
    "        # toes % win # fans\n",
    "ih_wt = [[0.1, 0.2, -0.1], # hid[0]\n",
    "         [-0.1, 0.1, 0.9], # hid[1]\n",
    "         [0.1, 0.4, 0.1]]  # hid[2]\n",
    "\n",
    "        # toes % win # fans\n",
    "hp_wt = [[0.3, 1.1, -0.3],# hurt?\n",
    "         [0.1, 0.2, 0.0], # win?\n",
    "         [0.0, 1.3, 0.1]] # sad?\n",
    "\n",
    "weights = [ih_wt, hp_wt]\n",
    "\n",
    "def neural_network(input, weights):\n",
    "    hid = vect_mat_mul(input, weights[0]) # Predicting the hidden layer\n",
    "    print(\"hid :\", hid)\n",
    "    pred = vect_mat_mul(hid, weights[1]) # Predicting the output layer\n",
    "    return pred"
   ]
  },
  {
   "cell_type": "code",
   "execution_count": 90,
   "id": "d8d1fabc",
   "metadata": {},
   "outputs": [
    {
     "name": "stdout",
     "output_type": "stream",
     "text": [
      "hid : [0.8600000000000001, 0.29499999999999993, 1.23]\n"
     ]
    },
    {
     "data": {
      "text/plain": [
       "[0.21350000000000002, 0.14500000000000002, 0.5065]"
      ]
     },
     "execution_count": 90,
     "metadata": {},
     "output_type": "execute_result"
    }
   ],
   "source": [
    "toes = [8.5, 9.5, 9.9, 9.0]\n",
    "wlrec = [0.65,0.8, 0.8, 0.9]\n",
    "nfans = [1.2, 1.3, 0.5, 1.0]\n",
    "\n",
    "input = [toes[0],wlrec[0],nfans[0]]\n",
    "\n",
    "pred = neural_network(input,weights)\n",
    "pred"
   ]
  },
  {
   "cell_type": "code",
   "execution_count": 92,
   "id": "6c42f12e",
   "metadata": {},
   "outputs": [
    {
     "name": "stdout",
     "output_type": "stream",
     "text": [
      "[0.2135 0.145  0.5065]\n"
     ]
    }
   ],
   "source": [
    "# Numpy version\n",
    "\n",
    "import numpy as np\n",
    "\n",
    "# toes % win # fans\n",
    "ih_wgt = np.array([[0.1, 0.2, -0.1], # hid[0]\n",
    "                    [-0.1,0.1, 0.9], # hid[1]\n",
    "                    [0.1, 0.4, 0.1]]).T # hid[2]\n",
    "\n",
    "# hid[0] hid[1] hid[2]\n",
    "hp_wgt = np.array([[0.3, 1.1, -0.3], # hurt?\n",
    "                    [0.1, 0.2, 0.0], # win?\n",
    "                    [0.0, 1.3, 0.1] ]).T # sad?\n",
    "\n",
    "weights = [ih_wgt, hp_wgt]\n",
    "def neural_network(input, weights):\n",
    "    hid = input.dot(weights[0])\n",
    "    pred = hid.dot(weights[1])\n",
    "    return pred\n",
    "\n",
    "toes = np.array([8.5, 9.5, 9.9, 9.0])\n",
    "wlrec = np.array([0.65,0.8, 0.8, 0.9])\n",
    "nfans = np.array([1.2, 1.3, 0.5, 1.0])\n",
    "\n",
    "input = np.array([toes[0],wlrec[0],nfans[0]])\n",
    "pred = neural_network(input,weights)\n",
    "print(pred)"
   ]
  },
  {
   "cell_type": "markdown",
   "id": "2556bca2",
   "metadata": {},
   "source": [
    "#### Numpy"
   ]
  },
  {
   "cell_type": "code",
   "execution_count": 94,
   "id": "89bb2183",
   "metadata": {},
   "outputs": [],
   "source": [
    "import numpy as np"
   ]
  },
  {
   "cell_type": "code",
   "execution_count": 95,
   "id": "5f29578d",
   "metadata": {},
   "outputs": [],
   "source": [
    "a = np.array([0,1,2,3])\n",
    "b = np.array([4,5,6,7])\n",
    "c = np.array([[0,1,2,3],\n",
    "              [4,5,6,7]])\n",
    "d = d = np.zeros((2,4))\n",
    "e = np.random.rand(2,5)"
   ]
  },
  {
   "cell_type": "code",
   "execution_count": 96,
   "id": "aa508d47",
   "metadata": {},
   "outputs": [
    {
     "data": {
      "text/plain": [
       "array([0, 1, 2, 3])"
      ]
     },
     "execution_count": 96,
     "metadata": {},
     "output_type": "execute_result"
    }
   ],
   "source": [
    "a"
   ]
  },
  {
   "cell_type": "code",
   "execution_count": 97,
   "id": "4d7cc90c",
   "metadata": {},
   "outputs": [
    {
     "data": {
      "text/plain": [
       "array([4, 5, 6, 7])"
      ]
     },
     "execution_count": 97,
     "metadata": {},
     "output_type": "execute_result"
    }
   ],
   "source": [
    "b"
   ]
  },
  {
   "cell_type": "code",
   "execution_count": 98,
   "id": "8b05eed0",
   "metadata": {},
   "outputs": [
    {
     "data": {
      "text/plain": [
       "array([[0, 1, 2, 3],\n",
       "       [4, 5, 6, 7]])"
      ]
     },
     "execution_count": 98,
     "metadata": {},
     "output_type": "execute_result"
    }
   ],
   "source": [
    "c"
   ]
  },
  {
   "cell_type": "code",
   "execution_count": 99,
   "id": "179271d6",
   "metadata": {},
   "outputs": [
    {
     "data": {
      "text/plain": [
       "array([[0., 0., 0., 0.],\n",
       "       [0., 0., 0., 0.]])"
      ]
     },
     "execution_count": 99,
     "metadata": {},
     "output_type": "execute_result"
    }
   ],
   "source": [
    "d"
   ]
  },
  {
   "cell_type": "code",
   "execution_count": 100,
   "id": "5c083c33",
   "metadata": {},
   "outputs": [
    {
     "data": {
      "text/plain": [
       "array([[0.45479949, 0.31281219, 0.48336948, 0.19743906, 0.9166228 ],\n",
       "       [0.57291235, 0.96635051, 0.03482311, 0.57666492, 0.27155197]])"
      ]
     },
     "execution_count": 100,
     "metadata": {},
     "output_type": "execute_result"
    }
   ],
   "source": [
    "e"
   ]
  },
  {
   "cell_type": "code",
   "execution_count": 101,
   "id": "b4fa7194",
   "metadata": {},
   "outputs": [
    {
     "data": {
      "text/plain": [
       "array([0. , 0.1, 0.2, 0.3])"
      ]
     },
     "execution_count": 101,
     "metadata": {},
     "output_type": "execute_result"
    }
   ],
   "source": [
    "a*0.1"
   ]
  },
  {
   "cell_type": "code",
   "execution_count": 102,
   "id": "4320c31a",
   "metadata": {},
   "outputs": [
    {
     "data": {
      "text/plain": [
       "array([[0. , 0.2, 0.4, 0.6],\n",
       "       [0.8, 1. , 1.2, 1.4]])"
      ]
     },
     "execution_count": 102,
     "metadata": {},
     "output_type": "execute_result"
    }
   ],
   "source": [
    "c*0.2"
   ]
  },
  {
   "cell_type": "code",
   "execution_count": 103,
   "id": "d2c8ec60",
   "metadata": {},
   "outputs": [
    {
     "data": {
      "text/plain": [
       "array([ 0,  5, 12, 21])"
      ]
     },
     "execution_count": 103,
     "metadata": {},
     "output_type": "execute_result"
    }
   ],
   "source": [
    "a*b"
   ]
  },
  {
   "cell_type": "code",
   "execution_count": 104,
   "id": "dcf601ac",
   "metadata": {},
   "outputs": [
    {
     "data": {
      "text/plain": [
       "array([0. , 1. , 2.4, 4.2])"
      ]
     },
     "execution_count": 104,
     "metadata": {},
     "output_type": "execute_result"
    }
   ],
   "source": [
    "a*b*0.2"
   ]
  },
  {
   "cell_type": "code",
   "execution_count": 105,
   "id": "fa92eb1b",
   "metadata": {},
   "outputs": [
    {
     "data": {
      "text/plain": [
       "array([[ 0,  1,  4,  9],\n",
       "       [ 0,  5, 12, 21]])"
      ]
     },
     "execution_count": 105,
     "metadata": {},
     "output_type": "execute_result"
    }
   ],
   "source": [
    "a*c"
   ]
  },
  {
   "cell_type": "code",
   "execution_count": 107,
   "id": "fcbbb035",
   "metadata": {},
   "outputs": [
    {
     "ename": "ValueError",
     "evalue": "operands could not be broadcast together with shapes (4,) (2,5) ",
     "output_type": "error",
     "traceback": [
      "\u001b[0;31m---------------------------------------------------------------------------\u001b[0m",
      "\u001b[0;31mValueError\u001b[0m                                Traceback (most recent call last)",
      "Input \u001b[0;32mIn [107]\u001b[0m, in \u001b[0;36m<cell line: 1>\u001b[0;34m()\u001b[0m\n\u001b[0;32m----> 1\u001b[0m a\u001b[38;5;241m*\u001b[39me\n",
      "\u001b[0;31mValueError\u001b[0m: operands could not be broadcast together with shapes (4,) (2,5) "
     ]
    }
   ],
   "source": [
    "a*e"
   ]
  },
  {
   "cell_type": "code",
   "execution_count": 108,
   "id": "537db8a4",
   "metadata": {},
   "outputs": [],
   "source": [
    "a = np.zeros((1,4))\n",
    "b = np.zeros((4,3))"
   ]
  },
  {
   "cell_type": "code",
   "execution_count": 109,
   "id": "7c94fe07",
   "metadata": {},
   "outputs": [
    {
     "data": {
      "text/plain": [
       "array([[0., 0., 0., 0.]])"
      ]
     },
     "execution_count": 109,
     "metadata": {},
     "output_type": "execute_result"
    }
   ],
   "source": [
    "a"
   ]
  },
  {
   "cell_type": "code",
   "execution_count": 110,
   "id": "fdca5857",
   "metadata": {},
   "outputs": [
    {
     "data": {
      "text/plain": [
       "array([[0., 0., 0.],\n",
       "       [0., 0., 0.],\n",
       "       [0., 0., 0.],\n",
       "       [0., 0., 0.]])"
      ]
     },
     "execution_count": 110,
     "metadata": {},
     "output_type": "execute_result"
    }
   ],
   "source": [
    "b"
   ]
  },
  {
   "cell_type": "code",
   "execution_count": 113,
   "id": "630b23dd",
   "metadata": {},
   "outputs": [
    {
     "data": {
      "text/plain": [
       "array([[0., 0., 0.]])"
      ]
     },
     "execution_count": 113,
     "metadata": {},
     "output_type": "execute_result"
    }
   ],
   "source": [
    "c = a.dot(b)\n",
    "c"
   ]
  },
  {
   "cell_type": "code",
   "execution_count": 114,
   "id": "462eb3cf",
   "metadata": {},
   "outputs": [
    {
     "data": {
      "text/plain": [
       "(1, 3)"
      ]
     },
     "execution_count": 114,
     "metadata": {},
     "output_type": "execute_result"
    }
   ],
   "source": [
    "c.shape"
   ]
  },
  {
   "cell_type": "code",
   "execution_count": 118,
   "id": "3bbce2c6",
   "metadata": {},
   "outputs": [
    {
     "name": "stdout",
     "output_type": "stream",
     "text": [
      "[[0. 0. 0. 0.]\n",
      " [0. 0. 0. 0.]]\n",
      "[[0. 0. 0.]\n",
      " [0. 0. 0.]\n",
      " [0. 0. 0.]\n",
      " [0. 0. 0.]]\n"
     ]
    }
   ],
   "source": [
    "a = np.zeros((2,4))\n",
    "b = np.zeros((4,3))\n",
    "print(a)\n",
    "print(b)"
   ]
  },
  {
   "cell_type": "code",
   "execution_count": 117,
   "id": "9aa03dc2",
   "metadata": {},
   "outputs": [
    {
     "name": "stdout",
     "output_type": "stream",
     "text": [
      "[[0. 0. 0.]\n",
      " [0. 0. 0.]]\n",
      "(2, 3)\n"
     ]
    }
   ],
   "source": [
    "c = a.dot(b)\n",
    "print(c)\n",
    "print(c.shape)"
   ]
  },
  {
   "cell_type": "code",
   "execution_count": 119,
   "id": "10a1f64a",
   "metadata": {},
   "outputs": [],
   "source": [
    "e = np.zeros((2,1))\n",
    "f = np.zeros((1,3))"
   ]
  },
  {
   "cell_type": "code",
   "execution_count": 120,
   "id": "7d382289",
   "metadata": {},
   "outputs": [
    {
     "data": {
      "text/plain": [
       "array([[0.],\n",
       "       [0.]])"
      ]
     },
     "execution_count": 120,
     "metadata": {},
     "output_type": "execute_result"
    }
   ],
   "source": [
    "e"
   ]
  },
  {
   "cell_type": "code",
   "execution_count": 121,
   "id": "a2a6c22d",
   "metadata": {},
   "outputs": [
    {
     "data": {
      "text/plain": [
       "array([[0., 0., 0.]])"
      ]
     },
     "execution_count": 121,
     "metadata": {},
     "output_type": "execute_result"
    }
   ],
   "source": [
    "f"
   ]
  },
  {
   "cell_type": "code",
   "execution_count": 122,
   "id": "3fa7af59",
   "metadata": {},
   "outputs": [
    {
     "data": {
      "text/plain": [
       "array([[0., 0., 0.],\n",
       "       [0., 0., 0.]])"
      ]
     },
     "execution_count": 122,
     "metadata": {},
     "output_type": "execute_result"
    }
   ],
   "source": [
    "g = e.dot(f)\n",
    "g"
   ]
  },
  {
   "cell_type": "code",
   "execution_count": 123,
   "id": "33e973dc",
   "metadata": {},
   "outputs": [
    {
     "data": {
      "text/plain": [
       "(2, 3)"
      ]
     },
     "execution_count": 123,
     "metadata": {},
     "output_type": "execute_result"
    }
   ],
   "source": [
    "g.shape"
   ]
  },
  {
   "cell_type": "code",
   "execution_count": 124,
   "id": "2f013404",
   "metadata": {},
   "outputs": [],
   "source": [
    "h = np.zeros((5,4)).T\n",
    "i = np.zeros((5,6))"
   ]
  },
  {
   "cell_type": "code",
   "execution_count": 125,
   "id": "6f7d5c17",
   "metadata": {},
   "outputs": [
    {
     "data": {
      "text/plain": [
       "array([[0., 0., 0., 0., 0.],\n",
       "       [0., 0., 0., 0., 0.],\n",
       "       [0., 0., 0., 0., 0.],\n",
       "       [0., 0., 0., 0., 0.]])"
      ]
     },
     "execution_count": 125,
     "metadata": {},
     "output_type": "execute_result"
    }
   ],
   "source": [
    "h"
   ]
  },
  {
   "cell_type": "code",
   "execution_count": 126,
   "id": "1c861fa4",
   "metadata": {},
   "outputs": [
    {
     "data": {
      "text/plain": [
       "array([[0., 0., 0., 0., 0., 0.],\n",
       "       [0., 0., 0., 0., 0., 0.],\n",
       "       [0., 0., 0., 0., 0., 0.],\n",
       "       [0., 0., 0., 0., 0., 0.],\n",
       "       [0., 0., 0., 0., 0., 0.]])"
      ]
     },
     "execution_count": 126,
     "metadata": {},
     "output_type": "execute_result"
    }
   ],
   "source": [
    "i"
   ]
  },
  {
   "cell_type": "code",
   "execution_count": 128,
   "id": "7920ef3d",
   "metadata": {},
   "outputs": [
    {
     "data": {
      "text/plain": [
       "array([[0., 0., 0., 0., 0., 0.],\n",
       "       [0., 0., 0., 0., 0., 0.],\n",
       "       [0., 0., 0., 0., 0., 0.],\n",
       "       [0., 0., 0., 0., 0., 0.]])"
      ]
     },
     "execution_count": 128,
     "metadata": {},
     "output_type": "execute_result"
    }
   ],
   "source": [
    "j = h.dot(i)\n",
    "j"
   ]
  },
  {
   "cell_type": "code",
   "execution_count": 129,
   "id": "0ecca3c4",
   "metadata": {},
   "outputs": [
    {
     "data": {
      "text/plain": [
       "(4, 6)"
      ]
     },
     "execution_count": 129,
     "metadata": {},
     "output_type": "execute_result"
    }
   ],
   "source": [
    "j.shape"
   ]
  },
  {
   "cell_type": "code",
   "execution_count": 130,
   "id": "1038e61f",
   "metadata": {},
   "outputs": [
    {
     "ename": "ValueError",
     "evalue": "shapes (5,4) and (5,6) not aligned: 4 (dim 1) != 5 (dim 0)",
     "output_type": "error",
     "traceback": [
      "\u001b[0;31m---------------------------------------------------------------------------\u001b[0m",
      "\u001b[0;31mValueError\u001b[0m                                Traceback (most recent call last)",
      "Input \u001b[0;32mIn [130]\u001b[0m, in \u001b[0;36m<cell line: 3>\u001b[0;34m()\u001b[0m\n\u001b[1;32m      1\u001b[0m h \u001b[38;5;241m=\u001b[39m np\u001b[38;5;241m.\u001b[39mzeros((\u001b[38;5;241m5\u001b[39m,\u001b[38;5;241m4\u001b[39m))\n\u001b[1;32m      2\u001b[0m i \u001b[38;5;241m=\u001b[39m np\u001b[38;5;241m.\u001b[39mzeros((\u001b[38;5;241m5\u001b[39m,\u001b[38;5;241m6\u001b[39m))\n\u001b[0;32m----> 3\u001b[0m j \u001b[38;5;241m=\u001b[39m h\u001b[38;5;241m.\u001b[39mdot(i)\n\u001b[1;32m      4\u001b[0m \u001b[38;5;28mprint\u001b[39m(j\u001b[38;5;241m.\u001b[39mshape)\n",
      "\u001b[0;31mValueError\u001b[0m: shapes (5,4) and (5,6) not aligned: 4 (dim 1) != 5 (dim 0)"
     ]
    }
   ],
   "source": [
    "h = np.zeros((5,4))\n",
    "i = np.zeros((5,6))\n",
    "j = h.dot(i)\n",
    "print(j.shape)"
   ]
  },
  {
   "cell_type": "code",
   "execution_count": null,
   "id": "600a25ed",
   "metadata": {},
   "outputs": [],
   "source": []
  }
 ],
 "metadata": {
  "kernelspec": {
   "display_name": "Python 3 (ipykernel)",
   "language": "python",
   "name": "python3"
  },
  "language_info": {
   "codemirror_mode": {
    "name": "ipython",
    "version": 3
   },
   "file_extension": ".py",
   "mimetype": "text/x-python",
   "name": "python",
   "nbconvert_exporter": "python",
   "pygments_lexer": "ipython3",
   "version": "3.10.6"
  }
 },
 "nbformat": 4,
 "nbformat_minor": 5
}
