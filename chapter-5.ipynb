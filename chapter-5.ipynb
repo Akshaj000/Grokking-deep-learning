{
 "cells": [
  {
   "cell_type": "markdown",
   "id": "05b86f1a",
   "metadata": {},
   "source": [
    "# Chapter-5 | learning multiple weights at a time: generalizing gradient descent"
   ]
  },
  {
   "cell_type": "markdown",
   "id": "7da951bf",
   "metadata": {},
   "source": [
    "## Gradient descent learning with multiple inputs"
   ]
  },
  {
   "cell_type": "code",
   "execution_count": 1,
   "id": "6807279b",
   "metadata": {},
   "outputs": [],
   "source": [
    "# An empty network with multiple inputs\n",
    "def w_sum(a,b):\n",
    "    assert(len(a) == len(b))\n",
    "    output = 0\n",
    "    for i in range(len(a)):\n",
    "        output += (a[i] * b[i])\n",
    "    return output\n",
    "weights = [0.1, 0.2, -.1]\n",
    "def neural_network(input, weights):\n",
    "    pred = w_sum(input, weights)\n",
    "    return pred"
   ]
  },
  {
   "cell_type": "code",
   "execution_count": 2,
   "id": "77d2b430",
   "metadata": {},
   "outputs": [],
   "source": [
    "# PREDICT + COMPARE: Making a prediction, and calculating error and delta\n",
    "toes = [8.5 , 9.5, 9.9, 9.0]\n",
    "wlrec = [0.65, 0.8, 0.8, 0.9]\n",
    "nfans = [1.2 , 1.3, 0.5, 1.0]\n",
    "win_or_lose_binary = [1, 1, 0, 1]\n",
    "true = win_or_lose_binary[0]\n",
    "# Input corresponds to every entry for the first game of the season.\n",
    "input = [toes[0],wlrec[0],nfans[0]]\n",
    "pred = neural_network(input,weights)\n",
    "error = (pred - true) ** 2\n",
    "delta = pred - true"
   ]
  },
  {
   "cell_type": "code",
   "execution_count": 3,
   "id": "7377c2c0",
   "metadata": {},
   "outputs": [
    {
     "data": {
      "text/plain": [
       "-0.1399999999999999"
      ]
     },
     "execution_count": 3,
     "metadata": {},
     "output_type": "execute_result"
    }
   ],
   "source": [
    "delta"
   ]
  },
  {
   "cell_type": "code",
   "execution_count": 4,
   "id": "3a9687e7",
   "metadata": {},
   "outputs": [
    {
     "data": {
      "text/plain": [
       "0.8600000000000001"
      ]
     },
     "execution_count": 4,
     "metadata": {},
     "output_type": "execute_result"
    }
   ],
   "source": [
    "pred"
   ]
  },
  {
   "cell_type": "code",
   "execution_count": 5,
   "id": "00097b00",
   "metadata": {},
   "outputs": [
    {
     "data": {
      "text/plain": [
       "0.01959999999999997"
      ]
     },
     "execution_count": 5,
     "metadata": {},
     "output_type": "execute_result"
    }
   ],
   "source": [
    "error"
   ]
  },
  {
   "cell_type": "code",
   "execution_count": 6,
   "id": "fb6f8c87",
   "metadata": {},
   "outputs": [
    {
     "data": {
      "text/plain": [
       "1"
      ]
     },
     "execution_count": 6,
     "metadata": {},
     "output_type": "execute_result"
    }
   ],
   "source": [
    "true"
   ]
  },
  {
   "cell_type": "code",
   "execution_count": 7,
   "id": "bc59d412",
   "metadata": {},
   "outputs": [],
   "source": [
    "# LEARN: Calculating each weight_delta and putting it on each weight\n",
    "def ele_mul(number, vector):\n",
    "    output = [0, 0, 0]\n",
    "    assert(len(output)==len(vector))\n",
    "    for i in range(len(vector)):\n",
    "        output[i] = number * vector[i]\n",
    "    return output"
   ]
  },
  {
   "cell_type": "code",
   "execution_count": 8,
   "id": "79f81ec7",
   "metadata": {},
   "outputs": [
    {
     "data": {
      "text/plain": [
       "[-1.189999999999999, -0.09099999999999994, -0.16799999999999987]"
      ]
     },
     "execution_count": 8,
     "metadata": {},
     "output_type": "execute_result"
    }
   ],
   "source": [
    "weight_deltas = ele_mul(delta,input)\n",
    "weight_deltas"
   ]
  },
  {
   "cell_type": "code",
   "execution_count": 9,
   "id": "192ce3c9",
   "metadata": {},
   "outputs": [
    {
     "name": "stdout",
     "output_type": "stream",
     "text": [
      "Weights:[0.1119, 0.20091, -0.09832]\n",
      "Weight Deltas:[-1.189999999999999, -0.09099999999999994, -0.16799999999999987]\n"
     ]
    }
   ],
   "source": [
    "# LEARN: Updating the weights\n",
    "alpha = 0.01\n",
    "for i in range(len(weights)):\n",
    "    weights[i] -= alpha * weight_deltas[i]\n",
    "print(\"Weights:\" + str(weights))\n",
    "print(\"Weight Deltas:\" + str(weight_deltas))"
   ]
  },
  {
   "cell_type": "markdown",
   "id": "044729fc",
   "metadata": {},
   "source": [
    "## Gradient descent with multiple inputs explained\n"
   ]
  },
  {
   "cell_type": "markdown",
   "id": "8071ca12",
   "metadata": {},
   "source": [
    "``` py\n",
    "# Single input: Making a prediction and calculating error and delta\n",
    "\n",
    "number_of_toes = [8.5]\n",
    "win_or_lose_binary = [1] # (won!!!)\n",
    "input = number_of_toes[0]\n",
    "true = win_or_lose_binary[0]\n",
    "pred = neural_network(input,weights)\n",
    "error = (pred - true) ** 2\n",
    "delta = pred - true\n",
    "\n",
    "# Calculating weight_delta and putting it on the weight\n",
    "weight_delta = input * delta\n",
    "\n",
    "alpha = 0.01\n",
    "# Fixed before training\n",
    "weight -= weight_delta * alpha\n",
    "```"
   ]
  },
  {
   "cell_type": "code",
   "execution_count": 16,
   "id": "f4d7a451",
   "metadata": {},
   "outputs": [],
   "source": [
    "# Multi-input: Making a prediction and calculating error and delta\n",
    "\n",
    "toes = [8.5, 9.5, 9.9, 9.0]\n",
    "wlrec = [0.65, 0.8, 0.8, 0.9]\n",
    "nfans = [1.2, 1.3, 0.5, 1.0]\n",
    "\n",
    "win_or_lose_binary = [1, 1, 0, 1]\n",
    "true = win_or_lose_binary[0]\n",
    "\n",
    "input = [toes[0],wlrec[0],nfans[0]] # input corresponds to every entry for the first game of \n",
    "                                    # the season\n",
    "pred = neural_network(input,weights)\n",
    "error = (pred - true) ** 2\n",
    "delta = pred - true\n",
    "\n",
    "# Calculating each weight_delta and putting it on each weight\n",
    "\n",
    "weight_deltas = ele_mul(delta,input)"
   ]
  },
  {
   "cell_type": "code",
   "execution_count": 17,
   "id": "f5358207",
   "metadata": {},
   "outputs": [
    {
     "data": {
      "text/plain": [
       "[-0.30806125000000056, -0.023557625000000044, -0.04349100000000008]"
      ]
     },
     "execution_count": 17,
     "metadata": {},
     "output_type": "execute_result"
    }
   ],
   "source": [
    "weight_deltas"
   ]
  },
  {
   "cell_type": "code",
   "execution_count": 19,
   "id": "71d4bf3d",
   "metadata": {},
   "outputs": [],
   "source": [
    "alpha = 0.01\n",
    "for i in range(len(weights)):\n",
    "    weights[i] -= alpha * weight_deltas[i]"
   ]
  },
  {
   "cell_type": "code",
   "execution_count": 21,
   "id": "46998777",
   "metadata": {},
   "outputs": [
    {
     "name": "stdout",
     "output_type": "stream",
     "text": [
      "Iteration:1\n",
      "Pred:0.8600000000000001\n",
      "Error:0.01959999999999997\n",
      "Delta:-0.1399999999999999\n",
      "Weights:[0.1, 0.2, -0.1]\n",
      "Weight_Deltas:\n",
      "[-1.189999999999999, -0.09099999999999994, -0.16799999999999987]\n",
      "\n",
      "Iteration:2\n",
      "Pred:0.8600000000000001\n",
      "Error:0.01959999999999997\n",
      "Delta:-0.1399999999999999\n",
      "Weights:[0.1, 0.2, -0.1]\n",
      "Weight_Deltas:\n",
      "[-1.189999999999999, -0.09099999999999994, -0.16799999999999987]\n",
      "\n",
      "Iteration:3\n",
      "Pred:0.8600000000000001\n",
      "Error:0.01959999999999997\n",
      "Delta:-0.1399999999999999\n",
      "Weights:[0.1, 0.2, -0.1]\n",
      "Weight_Deltas:\n",
      "[-1.189999999999999, -0.09099999999999994, -0.16799999999999987]\n",
      "\n"
     ]
    }
   ],
   "source": [
    "def neural_network(input, weights):\n",
    "    out = 0\n",
    "    for i in range(len(input)):\n",
    "        out += (input[i] * weights[i])\n",
    "    return out\n",
    "def ele_mul(scalar, vector):\n",
    "    out = [0,0,0]\n",
    "    for i in range(len(out)):\n",
    "        out[i] = vector[i] * scalar\n",
    "    return out\n",
    "\n",
    "toes = [8.5, 9.5, 9.9, 9.0]\n",
    "wlrec = [0.65, 0.8, 0.8, 0.9]\n",
    "nfans = [1.2, 1.3, 0.5, 1.0]\n",
    "win_or_lose_binary = [1, 1, 0, 1]\n",
    "true = win_or_lose_binary[0]\n",
    "alpha = 0.01\n",
    "weights = [0.1, 0.2, -.1]\n",
    "input = [toes[0],wlrec[0],nfans[0]]\n",
    "\n",
    "for iter in range(3):\n",
    "    pred = neural_network(input,weights)\n",
    "    error = (pred - true) ** 2\n",
    "    delta = pred - true\n",
    "    weight_deltas=ele_mul(delta,input)\n",
    "    print(\"Iteration:\" + str(iter+1))\n",
    "    print(\"Pred:\" + str(pred))\n",
    "    print(\"Error:\" + str(error))\n",
    "    print(\"Delta:\" + str(delta))\n",
    "    print(\"Weights:\" + str(weights))\n",
    "    print(\"Weight_Deltas:\")\n",
    "    print(str(weight_deltas))\n",
    "    print()\n",
    "    \n",
    "for i in range(len(weights)):\n",
    "    weights[i]-=alpha*weight_deltas[i]"
   ]
  },
  {
   "cell_type": "code",
   "execution_count": null,
   "id": "30946896",
   "metadata": {},
   "outputs": [],
   "source": []
  }
 ],
 "metadata": {
  "kernelspec": {
   "display_name": "Python 3 (ipykernel)",
   "language": "python",
   "name": "python3"
  },
  "language_info": {
   "codemirror_mode": {
    "name": "ipython",
    "version": 3
   },
   "file_extension": ".py",
   "mimetype": "text/x-python",
   "name": "python",
   "nbconvert_exporter": "python",
   "pygments_lexer": "ipython3",
   "version": "3.10.7"
  }
 },
 "nbformat": 4,
 "nbformat_minor": 5
}
